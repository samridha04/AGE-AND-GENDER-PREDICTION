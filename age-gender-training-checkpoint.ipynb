{
 "cells": [
  {
   "cell_type": "code",
   "execution_count": null,
   "metadata": {
    "_cell_guid": "b1076dfc-b9ad-4769-8c92-a6c4dae69d19",
    "_uuid": "8f2839f25d086af736a60e9eeb907d3b93b6e0e5"
   },
   "outputs": [],
   "source": [
    "# Importing the required libraries:\n",
    "\n",
    "import os\n",
    "import cv2\n",
    "import numpy as np\n",
    "import pandas as pd\n",
    "import matplotlib.pyplot as plt\n",
    "from tensorflow.keras.layers import *\n",
    "from tensorflow.keras.models import *\n",
    "from tensorflow.keras import backend as K\n",
    "from sklearn.model_selection import train_test_split\n",
    "from keras.losses import mse\n",
    "\n",
    "\n"
   ]
  },
  {
   "cell_type": "code",
   "execution_count": null,
   "metadata": {
    "_cell_guid": "79c7e3d0-c299-4dcb-8224-4455121ee9b0",
    "_uuid": "d629ff2d2480ee46fbb7e2d37f6b5fab8052498a",
    "tags": []
   },
   "outputs": [],
   "source": [
    "# Loading the Dataset:\n",
    "\n",
    "path = \"./UTKFace/\"\n",
    "files = os.listdir(path)\n",
    "size = len(files)\n",
    "print(\"Total samples:\",size)\n",
    "print(files[0])"
   ]
  },
  {
   "cell_type": "code",
   "execution_count": null,
   "metadata": {},
   "outputs": [],
   "source": [
    "# Creating the Image, Ages and the Genders Array:\n",
    "\n",
    "images = []\n",
    "ages = []\n",
    "genders = []\n",
    "for file in files:\n",
    "    image = cv2.imread(path+file,0)\n",
    "    image = cv2.resize(image,dsize=(64,64))\n",
    "    image = image.reshape((image.shape[0],image.shape[1],1))\n",
    "    images.append(image)\n",
    "    split_var = file.split('_')\n",
    "    ages.append(split_var[0])\n",
    "    genders.append(int(split_var[1]))"
   ]
  },
  {
   "cell_type": "code",
   "execution_count": null,
   "metadata": {},
   "outputs": [],
   "source": [
    "# Defining the function to display Images:\n",
    "\n",
    "def display(img):\n",
    "    plt.imshow(img[:,:,0])\n",
    "    plt.set_cmap('gray')\n",
    "    plt.show()"
   ]
  },
  {
   "cell_type": "code",
   "execution_count": null,
   "metadata": {},
   "outputs": [],
   "source": [
    "# Displaying an Image from the Dataset:\n",
    "\n",
    "idx = 700\n",
    "sample = images[idx]\n",
    "print(\"Gender:\",genders[idx],\"Age:\",ages[idx])\n",
    "display(sample)"
   ]
  },
  {
   "cell_type": "code",
   "execution_count": null,
   "metadata": {},
   "outputs": [],
   "source": [
    "# Function for defining the Age Groups:\n",
    "\n",
    "def age_group(age):\n",
    "    if age >=0 and age < 18:\n",
    "        return 1\n",
    "    elif age < 30:\n",
    "        return 2\n",
    "    elif age < 80:\n",
    "        return 3\n",
    "    else:\n",
    "        return 4"
   ]
  },
  {
   "cell_type": "code",
   "execution_count": null,
   "metadata": {},
   "outputs": [],
   "source": [
    "# Pre-processing:\n",
    "\n",
    "target = np.zeros((size,2),dtype='float32')\n",
    "features = np.zeros((size,sample.shape[0],sample.shape[1],1),dtype = 'float32')\n",
    "for i in range(size):\n",
    "    target[i,0] = age_group(int(ages[i])) / 4\n",
    "    target[i,1] = int(genders[i])\n",
    "    features[i] = images[i]\n",
    "\n",
    "features = features / 255"
   ]
  },
  {
   "cell_type": "code",
   "execution_count": null,
   "metadata": {},
   "outputs": [],
   "source": [
    "display(features[550])"
   ]
  },
  {
   "cell_type": "code",
   "execution_count": null,
   "metadata": {},
   "outputs": [],
   "source": [
    "# Splitting the Original Dataset into Training and Testing Dataset:\n",
    "\n",
    "x_train, x_test, y_train, y_test = train_test_split(features, target, test_size=0.2,shuffle  = True)\n",
    "print(\"Samples in Training:\",x_train.shape[0])\n",
    "print(\"Samples in Testing:\",x_test.shape[0])"
   ]
  },
  {
   "cell_type": "code",
   "execution_count": null,
   "metadata": {},
   "outputs": [],
   "source": [
    "# Defining the Model Layers:\n",
    "\n",
    "inputs = Input(shape=(64,64,1))\n",
    "conv1 = Conv2D(32, kernel_size=(3, 3),activation='relu')(inputs)\n",
    "conv2 = Conv2D(64, kernel_size=(3, 3),activation='relu')(conv1)\n",
    "pool1 = MaxPooling2D(pool_size=(2, 2))(conv2)\n",
    "conv3 = Conv2D(128, kernel_size=(3, 3),activation='relu')(pool1)\n",
    "pool2 = MaxPooling2D(pool_size=(2, 2))(conv3)\n",
    "x = Dropout(0.25)(pool2)\n",
    "flat = Flatten()(x)\n",
    "\n",
    "dropout = Dropout(0.5)\n",
    "age_model = Dense(128, activation='relu')(flat)\n",
    "age_model = dropout(age_model)\n",
    "age_model = Dense(64, activation='relu')(age_model)\n",
    "age_model = dropout(age_model)\n",
    "age_model = Dense(32, activation='relu')(age_model)\n",
    "age_model = dropout(age_model)\n",
    "age_model = Dense(1, activation='relu')(age_model)\n",
    "\n",
    "dropout = Dropout(0.5)\n",
    "gender_model = Dense(128, activation='relu')(flat)\n",
    "gender_model = dropout(gender_model)\n",
    "gender_model = Dense(64, activation='relu')(gender_model)\n",
    "gender_model = dropout(gender_model)\n",
    "gender_model = Dense(32, activation='relu')(gender_model)\n",
    "gender_model = dropout(gender_model)\n",
    "gender_model = Dense(16, activation='relu')(gender_model)\n",
    "gender_model = dropout(gender_model)\n",
    "gender_model = Dense(8, activation='relu')(gender_model)\n",
    "gender_model = dropout(gender_model)\n",
    "gender_model = Dense(1, activation='sigmoid')(gender_model)"
   ]
  },
  {
   "cell_type": "code",
   "execution_count": null,
   "metadata": {},
   "outputs": [],
   "source": [
    "# Compiling the Model:\n",
    "\n",
    "model = Model(inputs=inputs, outputs=[age_model,gender_model])\n",
    "model.compile(optimizer = 'adam', loss =['mse','binary_crossentropy'],metrics=['accuracy'])"
   ]
  },
  {
   "cell_type": "code",
   "execution_count": null,
   "metadata": {},
   "outputs": [],
   "source": [
    "# Summary of the Model:\n",
    "\n",
    "model.summary()"
   ]
  },
  {
   "cell_type": "code",
   "execution_count": null,
   "metadata": {
    "tags": []
   },
   "outputs": [],
   "source": [
    "# Training the Model:\n",
    "\n",
    "h = model.fit(x_train,[y_train[:,0],y_train[:,1]],validation_data=(x_test,[y_test[:,0],y_test[:,1]]),epochs = 40, batch_size=128,shuffle = True)"
   ]
  },
  {
   "cell_type": "code",
   "execution_count": null,
   "metadata": {},
   "outputs": [],
   "source": [
    "# Saving the Model:\n",
    "\n",
    "model.save('data.h5')"
   ]
  },
  {
   "cell_type": "code",
   "execution_count": null,
   "metadata": {},
   "outputs": [],
   "source": [
    "# Plotting the Training and the Validation Losses:\n",
    "\n",
    "history = h\n",
    "plt.plot(history.history['loss'])\n",
    "plt.plot(history.history['val_loss'])\n",
    "plt.title('model loss')\n",
    "plt.ylabel('loss')\n",
    "plt.xlabel('epoch')\n",
    "plt.legend(['train', 'val'], loc='upper left')\n",
    "plt.show()"
   ]
  },
  {
   "cell_type": "code",
   "execution_count": null,
   "metadata": {},
   "outputs": [],
   "source": [
    "# Defining the functions for getting the Predictions:\n",
    "\n",
    "def get_age(distr):\n",
    "    distr = distr*4\n",
    "    if distr >= 0.65 and distr <= 1.4:return \"0-18\"\n",
    "    if distr >= 1.65 and distr <= 2.4:return \"19-30\"\n",
    "    if distr >= 2.65 and distr <= 3.4:return \"31-80\"\n",
    "    if distr >= 3.65 and distr <= 4.4:return \"80 +\"\n",
    "    return \"Unknown\"\n",
    "    \n",
    "def get_gender(prob):\n",
    "    if prob < 0.5:return \"Male\"\n",
    "    else: return \"Female\"\n",
    "\n",
    "def get_result(sample):\n",
    "    sample = sample/255\n",
    "    val = model.predict( np.array([ sample ]) )    \n",
    "    age = get_age(val[0])\n",
    "    gender = get_gender(val[1])\n",
    "    print(\"Values:\",val,\"\\nPredicted Gender:\",gender,\"Predicted Age:\",age)"
   ]
  },
  {
   "cell_type": "code",
   "execution_count": null,
   "metadata": {},
   "outputs": [],
   "source": [
    "# Taking the predictions for a set of sample data points:\n",
    "\n",
    "indexes = [500,59,80,2,4546,7,9,256,45]\n",
    "for idx in indexes:\n",
    "    sample = images[idx]\n",
    "    display(sample)\n",
    "    print(\"Actual Gender:\",get_gender(genders[idx]),\"Age:\",ages[idx])\n",
    "    res = get_result(sample)"
   ]
  },
  {
   "cell_type": "code",
   "execution_count": null,
   "metadata": {},
   "outputs": [],
   "source": []
  }
 ],
 "metadata": {
  "kernelspec": {
   "display_name": "Python 3 (ipykernel)",
   "language": "python",
   "name": "python3"
  },
  "language_info": {
   "codemirror_mode": {
    "name": "ipython",
    "version": 3
   },
   "file_extension": ".py",
   "mimetype": "text/x-python",
   "name": "python",
   "nbconvert_exporter": "python",
   "pygments_lexer": "ipython3",
   "version": "3.9.12"
  }
 },
 "nbformat": 4,
 "nbformat_minor": 4
}
